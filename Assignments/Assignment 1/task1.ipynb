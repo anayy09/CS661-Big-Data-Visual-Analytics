{
 "cells": [
  {
   "cell_type": "code",
   "execution_count": 1,
   "metadata": {},
   "outputs": [
    {
     "name": "stdout",
     "output_type": "stream",
     "text": [
      "Note: you may need to restart the kernel to use updated packages.Requirement already satisfied: vtk in c:\\users\\anays\\appdata\\local\\programs\\python\\python39\\lib\\site-packages (9.3.0)\n",
      "Requirement already satisfied: matplotlib>=2.0.0 in c:\\users\\anays\\appdata\\local\\programs\\python\\python39\\lib\\site-packages (from vtk) (3.7.2)\n"
     ]
    },
    {
     "name": "stderr",
     "output_type": "stream",
     "text": [
      "WARNING: You are using pip version 22.0.4; however, version 24.0 is available.\n",
      "You should consider upgrading via the 'c:\\Users\\anays\\AppData\\Local\\Programs\\Python\\Python39\\python.exe -m pip install --upgrade pip' command.\n"
     ]
    },
    {
     "name": "stdout",
     "output_type": "stream",
     "text": [
      "\n",
      "Requirement already satisfied: fonttools>=4.22.0 in c:\\users\\anays\\appdata\\local\\programs\\python\\python39\\lib\\site-packages (from matplotlib>=2.0.0->vtk) (4.42.0)\n",
      "Requirement already satisfied: importlib-resources>=3.2.0 in c:\\users\\anays\\appdata\\local\\programs\\python\\python39\\lib\\site-packages (from matplotlib>=2.0.0->vtk) (6.0.1)\n",
      "Requirement already satisfied: kiwisolver>=1.0.1 in c:\\users\\anays\\appdata\\local\\programs\\python\\python39\\lib\\site-packages (from matplotlib>=2.0.0->vtk) (1.4.4)\n",
      "Requirement already satisfied: numpy>=1.20 in c:\\users\\anays\\appdata\\local\\programs\\python\\python39\\lib\\site-packages (from matplotlib>=2.0.0->vtk) (1.26.0)\n",
      "Requirement already satisfied: contourpy>=1.0.1 in c:\\users\\anays\\appdata\\local\\programs\\python\\python39\\lib\\site-packages (from matplotlib>=2.0.0->vtk) (1.1.0)\n",
      "Requirement already satisfied: packaging>=20.0 in c:\\users\\anays\\appdata\\local\\programs\\python\\python39\\lib\\site-packages (from matplotlib>=2.0.0->vtk) (21.3)\n",
      "Requirement already satisfied: pyparsing<3.1,>=2.3.1 in c:\\users\\anays\\appdata\\local\\programs\\python\\python39\\lib\\site-packages (from matplotlib>=2.0.0->vtk) (3.0.7)\n",
      "Requirement already satisfied: python-dateutil>=2.7 in c:\\users\\anays\\appdata\\local\\programs\\python\\python39\\lib\\site-packages (from matplotlib>=2.0.0->vtk) (2.8.2)\n",
      "Requirement already satisfied: cycler>=0.10 in c:\\users\\anays\\appdata\\local\\programs\\python\\python39\\lib\\site-packages (from matplotlib>=2.0.0->vtk) (0.11.0)\n",
      "Requirement already satisfied: pillow>=6.2.0 in c:\\users\\anays\\appdata\\local\\programs\\python\\python39\\lib\\site-packages (from matplotlib>=2.0.0->vtk) (9.0.0)\n",
      "Requirement already satisfied: zipp>=3.1.0 in c:\\users\\anays\\appdata\\local\\programs\\python\\python39\\lib\\site-packages (from importlib-resources>=3.2.0->matplotlib>=2.0.0->vtk) (3.7.0)\n",
      "Requirement already satisfied: six>=1.5 in c:\\users\\anays\\appdata\\local\\programs\\python\\python39\\lib\\site-packages (from python-dateutil>=2.7->matplotlib>=2.0.0->vtk) (1.16.0)\n"
     ]
    }
   ],
   "source": [
    "pip install vtk"
   ]
  },
  {
   "cell_type": "code",
   "execution_count": 22,
   "metadata": {},
   "outputs": [
    {
     "name": "stdout",
     "output_type": "stream",
     "text": [
      "Isovalue chosen: -630.0\n",
      "Isocontour extraction completed. Output saved to task1.vtp.\n"
     ]
    }
   ],
   "source": [
    "# Importing necessary VTK modules for data processing and visualization\n",
    "from vtk import vtkXMLImageDataReader, vtkPoints, vtkCellArray, vtkPolyLine, vtkPolyData, vtkXMLPolyDataWriter\n",
    "\n",
    "# Function to load the dataset and extract the isocontour\n",
    "def extract_isocontour(file_path, output_path, isovalue):\n",
    "    # Load the dataset\n",
    "    reader = vtkXMLImageDataReader()\n",
    "    reader.SetFileName(file_path)\n",
    "    reader.Update()\n",
    "    data = reader.GetOutput()\n",
    "\n",
    "    # Initialize points and cell array for contour lines\n",
    "    points = vtkPoints()\n",
    "    cells = vtkCellArray()\n",
    "\n",
    "    # Retrieve pressure data\n",
    "    pressure_data = data.GetPointData().GetArray(0)  # Assuming 'Pressure' is the first array\n",
    "\n",
    "    # Track the last inserted point ID to ensure lines connect correctly\n",
    "    last_pid = None\n",
    "\n",
    "    # Isocontour extraction logic\n",
    "    for cell_id in range(data.GetNumberOfCells()):\n",
    "        cell = data.GetCell(cell_id)\n",
    "        point_ids = [cell.GetPointId(i) for i in range(4)]\n",
    "        coords = [data.GetPoint(pid) for pid in point_ids]\n",
    "        values = [pressure_data.GetTuple1(pid) for pid in point_ids]\n",
    "\n",
    "        # Temporarily store points for this cell to connect later\n",
    "        cell_points = []\n",
    "\n",
    "        # Check each edge for intersections with the isovalue\n",
    "        for i in range(4):\n",
    "            next_i = (i + 1) % 4\n",
    "            if (values[i] - isovalue) * (values[next_i] - isovalue) < 0:\n",
    "                # Linear interpolation to find intersection point\n",
    "                t = (isovalue - values[i]) / (values[next_i] - values[i])\n",
    "                intersection = [coords[i][j] + t * (coords[next_i][j] - coords[i][j]) for j in range(3)]\n",
    "                pid = points.InsertNextPoint(intersection)\n",
    "                cell_points.append(pid)\n",
    "\n",
    "        # Connect the points within this cell\n",
    "        for i in range(len(cell_points) - 1):\n",
    "            line = vtkPolyLine()\n",
    "            line.GetPointIds().SetNumberOfIds(2)\n",
    "            line.GetPointIds().SetId(0, cell_points[i])\n",
    "            line.GetPointIds().SetId(1, cell_points[i + 1])\n",
    "            cells.InsertNextCell(line)\n",
    "\n",
    "    # Create and write the polydata containing the isocontour\n",
    "    poly_data = vtkPolyData()\n",
    "    poly_data.SetPoints(points)\n",
    "    poly_data.SetLines(cells)\n",
    "    writer = vtkXMLPolyDataWriter()\n",
    "    writer.SetFileName(output_path)\n",
    "    writer.SetInputData(poly_data)\n",
    "    writer.Write()\n",
    "\n",
    "# Main function to run the extraction\n",
    "if __name__ == \"__main__\":\n",
    "    file_path = 'Data/Isabel_2D.vti'\n",
    "    output_path = 'task1.vtp'\n",
    "    isovalue = float(input(\"Please enter the isovalue within the range (-1438, 630): \"))\n",
    "    extract_isocontour(file_path, output_path, isovalue)\n",
    "    print(f\"Isovalue chosen: {isovalue}\")\n",
    "    print(f\"Isocontour extraction completed. Output saved to {output_path}.\")\n"
   ]
  }
 ],
 "metadata": {
  "kernelspec": {
   "display_name": "Python 3",
   "language": "python",
   "name": "python3"
  },
  "language_info": {
   "codemirror_mode": {
    "name": "ipython",
    "version": 3
   },
   "file_extension": ".py",
   "mimetype": "text/x-python",
   "name": "python",
   "nbconvert_exporter": "python",
   "pygments_lexer": "ipython3",
   "version": "3.9.13"
  }
 },
 "nbformat": 4,
 "nbformat_minor": 2
}
